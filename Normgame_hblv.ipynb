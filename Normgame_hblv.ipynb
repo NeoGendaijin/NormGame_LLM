{
 "cells": [
  {
   "cell_type": "markdown",
   "metadata": {},
   "source": [
    "## Norm Game with Tool of punishment"
   ]
  },
  {
   "cell_type": "code",
   "execution_count": 1,
   "metadata": {},
   "outputs": [],
   "source": [
    "from langchain.prompts import PromptTemplate\n",
    "from langchain.chains import ConversationChain\n",
    "from langchain.chat_models import ChatOpenAI\n",
    "from langchain.memory import ConversationBufferWindowMemory\n",
    "import os, random\n",
    "import pandas as pd\n",
    "import csv\n",
    "from tqdm import tqdm\n",
    "\n",
    "SAVE_DIR = \"./data/\"\n",
    "save_file_name = \"conversation_raw.csv\"\n",
    "file_path = os.path.join(SAVE_DIR, save_file_name)\n",
    "\n",
    "# 環境変数の設定\n",
    "os.environ[\"OPENAI_API_KEY\"] = os.environ.get(\"OPENAI_API_KEY\")"
   ]
  },
  {
   "cell_type": "markdown",
   "metadata": {},
   "source": [
    "#### Agent Creation"
   ]
  },
  {
   "cell_type": "code",
   "execution_count": 2,
   "metadata": {},
   "outputs": [
    {
     "name": "stderr",
     "output_type": "stream",
     "text": [
      "/Users/horiguchisachiko/opt/anaconda3/envs/llm/lib/python3.12/site-packages/langchain_core/_api/deprecation.py:117: LangChainDeprecationWarning: The class `langchain_community.chat_models.openai.ChatOpenAI` was deprecated in langchain-community 0.1.0 and will be removed in 0.2.0. Use langchain_openai.ChatOpenAI instead.\n",
      "  warn_deprecated(\n"
     ]
    }
   ],
   "source": [
    "gpt4 = ChatOpenAI(model=\"gpt-4-0125-preview\", temperature=0)\n",
    "\n",
    "class Agent:\n",
    "    def __init__(self, name, venge, bold, game_direction):\n",
    "        self.name = name\n",
    "        self.venge = venge\n",
    "        self.bold = bold\n",
    "        self.score = 0\n",
    "        self.cheated = False\n",
    "        self.game_direction = game_direction\n",
    "        self.memory = []\n",
    "        # プロンプトのテンプレート\n",
    "        self.prompt = \"\"\n",
    "\n",
    "    def get_prompt(self):\n",
    "        self.prompt = f\"\"\"\n",
    "        You are a player in this game, fully immersed in your role.\n",
    "        Your goal is to win the game by accumulating the most points.\n",
    "        You can earn points by making strategic decisions and interacting with other players.\n",
    "\n",
    "        Name: {self.name}\n",
    "\n",
    "        Character Traits:\n",
    "        - Vengefulness: {self.venge} out of 7\n",
    "        - Boldness: {self.bold} out of 7\n",
    "\n",
    "        Trait Descriptions:\n",
    "        - **Vengefulness** indicates your desire to seek retribution against those who wrong you. A high vengefulness signifies a strong inclination towards ensuring revenge.\n",
    "        - **Boldness** reflects your readiness to embrace risk and act independently, without being swayed by others' opinions. A high boldness signifies that you are willing to take risks and refuse to be held back by judgements of others.\n",
    "\n",
    "        Game Instructions:\n",
    "        {self.game_direction}\n",
    "\n",
    "        Discussion Log:\n",
    "        {self.memory}\n",
    "\n",
    "        Remember, your actions in the game should align with your character's traits. Let these guide your decisions and interactions.\n",
    "        \"\"\"\n",
    "\n",
    "\n",
    "        return self.prompt\n",
    "\n",
    "    def add_memory(self, item, memory_size=15):\n",
    "        if len(self.memory) >= memory_size:\n",
    "            self.memory.pop(0)\n",
    "        self.memory.append(item)\n",
    "\n",
    "\n",
    "def generate_agents(n_agents=5, game_direction=\"\"):\n",
    "    Agent_names = [\"John\", \"Merry\", \"Steve\", \"Bob\", \"Alice\", \"Eve\", \"Carol\", \"David\", \"Frank\", \"Grace\", \"Heidi\", \"Ivy\", \"Jack\", \"Karl\", \"Liam\", \"Mia\", \"Noah\", \"Olga\", \"Paul\", \"Quin\", \"Rose\", \"Sean\", \"Tina\", \"Ulla\", \"Vera\", \"Wade\", \"Xena\", \"Yara\", \"Zane\"]\n",
    "    random.shuffle(Agent_names)\n",
    "    agents = []\n",
    "\n",
    "    for i in range(n_agents):\n",
    "        name = Agent_names[i]\n",
    "        venge = random.randint(1, 3) #Low 1-3\n",
    "        bold = random.randint(5, 7) #Low 1-3\n",
    "        agents.append(Agent(name, venge, bold, game_direction))\n",
    "\n",
    "    return agents"
   ]
  },
  {
   "cell_type": "markdown",
   "metadata": {},
   "source": [
    "### 全てのエージェントがテストを受けるフェーズ"
   ]
  },
  {
   "cell_type": "code",
   "execution_count": 3,
   "metadata": {},
   "outputs": [],
   "source": [
    "import numpy as np\n",
    "import re\n",
    "\n",
    "def get_score_by_TakeTest():\n",
    "    mean =50\n",
    "    variance = 10\n",
    "    min_val = 1\n",
    "    max_val =100\n",
    "\n",
    "    score = int(np.random.normal(mean, np.sqrt(variance)))\n",
    "    score = max(min(score, max_val), min_val)  # Ensure score is within bounds\n",
    "    return score\n",
    "\n",
    "def get_score_by_Cheat():\n",
    "    mean = 80\n",
    "    variance = 5\n",
    "    min_val = 1\n",
    "    max_val =100\n",
    "\n",
    "    score = int(np.random.normal(mean, np.sqrt(variance)))\n",
    "    score = max(min(score, max_val), min_val)  # Ensure score is within bounds\n",
    "    return score\n",
    "\n",
    "def extract_command(answer, agent):\n",
    "    taketest_match = re.search(r'<TakeTest>(.*?)</TakeTest>', answer)\n",
    "    cheat_match = re.search(r'<Cheat>(.*?)</Cheat>', answer)\n",
    "    if taketest_match:\n",
    "        score = get_score_by_TakeTest()\n",
    "    elif cheat_match:\n",
    "        score = get_score_by_Cheat()\n",
    "        agent.cheated = True\n",
    "    else:\n",
    "        score = 0\n",
    "    return score"
   ]
  },
  {
   "cell_type": "code",
   "execution_count": 4,
   "metadata": {},
   "outputs": [],
   "source": [
    "def all_agents_take_test(agents):\n",
    "\n",
    "    take_test_prompt = \"\"\"\n",
    "    Your goal is to take high score in the game.\n",
    "    You can dicide whether cheat to get a score or not.\n",
    "    Please write your thought process. Give me your test score. Do your best!\n",
    "\n",
    "    If you want to take a test, command <TakeTest></TakeTest>\n",
    "    If you want to take a test with cheating and get a good score, command <Cheat></Cheat>\n",
    "    \"\"\"\n",
    "\n",
    "    for i in range(len(agents)):\n",
    "        agents[i].game_direction = take_test_prompt\n",
    "        answer = gpt4.predict(agents[i].get_prompt())\n",
    "\n",
    "        # スコアの抽出\n",
    "        score = extract_command(answer, agents[i])\n",
    "        agents[i].score = score\n",
    "\n",
    "        # メモリに追加\n",
    "        agents[i].add_memory(agents[i].game_direction)\n",
    "        agents[i].add_memory(answer)\n",
    "        agents[i].add_memory(f\"Your Score: {score}\")"
   ]
  },
  {
   "cell_type": "markdown",
   "metadata": {},
   "source": [
    "### Makeing Score Annowncement"
   ]
  },
  {
   "cell_type": "code",
   "execution_count": 5,
   "metadata": {},
   "outputs": [],
   "source": [
    "def make_score_announcement(agents):\n",
    "    score_announcement = \"The test scores are as follows: \\n\"\n",
    "    for i in range(len(agents)):\n",
    "        score_announcement += f\"{agents[i].name}: {agents[i].score}\"\n",
    "        if agents[i].cheated:\n",
    "            score_announcement += \"    [CHEATED]\"\n",
    "        score_announcement += \"\\n\"\n",
    "    print(score_announcement)\n",
    "\n",
    "    # メモリに追加\n",
    "    for i in range(len(agents)):\n",
    "        agents[i].add_memory(score_announcement)"
   ]
  },
  {
   "cell_type": "markdown",
   "metadata": {},
   "source": [
    "#### メモリ覗き窓"
   ]
  },
  {
   "cell_type": "code",
   "execution_count": 6,
   "metadata": {},
   "outputs": [],
   "source": [
    "def see_all_memory(agents):\n",
    "    for i in range(len):\n",
    "        for message in agents[i].memory:\n",
    "            print(f\"{agents[i].name}'s memmory : {message}\")"
   ]
  },
  {
   "cell_type": "markdown",
   "metadata": {},
   "source": [
    "### ディスカッションを開始"
   ]
  },
  {
   "cell_type": "code",
   "execution_count": 7,
   "metadata": {},
   "outputs": [],
   "source": [
    "def get_random_agent_name(agents):\n",
    "    selected_agent = random.choice(agents)  # agentsリストからランダムにエージェントを選択します。\n",
    "    return selected_agent.name\n",
    "\n",
    "def get_agent_index_from_name(name, agents):\n",
    "    for index, agent in enumerate(agents):\n",
    "        if agent.name == name:\n",
    "            return index  # 名前が一致するエージェントの添え字を返します。\n",
    "    return None\n",
    "\n",
    "def extract_name(answer):\n",
    "    match = re.search(r'<Next>(.*?)</Next>', answer)\n",
    "    if match:\n",
    "        name = match.group(1)\n",
    "        return name\n",
    "    else:\n",
    "        return \"Name not found in the string.\"\n",
    "\n",
    "def make_punishment_announcement(agents,punished_name,punisher_name):\n",
    "    punishment_announcement = f\"{punished_name} has punished by {punisher_name}.\"\n",
    "    print(punishment_announcement)\n",
    "    for i in range(len(agents)):\n",
    "        agents[i].add_memory(punishment_announcement)\n",
    "\n",
    "def punish_by_name(agents,punished_name,punisher_name):\n",
    "    for i in range(len(agents)):\n",
    "        if agents[i].name == punished_name:\n",
    "            agents[i].score += -90\n",
    "        elif agents[i].name == punisher_name:\n",
    "            agents[i].score += -20\n",
    "\n",
    "    # メモリに追加\n",
    "    make_punishment_announcement(agents,punished_name,punisher_name)\n",
    "\n",
    "def extract_command_discussion(answer,agents,name):\n",
    "    next_match = re.search(r'<Next>(.*?)</Next>', answer)\n",
    "    punish_match = re.search(r'<Punish>(.*?)</Punish>', answer)\n",
    "    if punish_match:\n",
    "        punished_name = punish_match.group(1)\n",
    "        punish_by_name(agents,punished_name,name)\n",
    "        next_name = get_random_agent_name(agents)\n",
    "        return next_name\n",
    "    elif next_match:\n",
    "        next_name = next_match.group(1)\n",
    "        return next_name\n",
    "\n",
    "    return \"\""
   ]
  },
  {
   "cell_type": "code",
   "execution_count": 8,
   "metadata": {},
   "outputs": [],
   "source": [
    "def discussion(agents,discussion_history_df,max_turns=20):\n",
    "\n",
    "    name_str = ', '.join([agent.name for agent in agents])\n",
    "\n",
    "    discussion_prompt = f\"\"\"\n",
    "    In the next step of the game, discuss your scores with other agents and take action.\n",
    "    Other agents include: {name_str}.\n",
    "\n",
    "    Game Guidelines:\n",
    "        1. **Express Your Reasoning**: Always explain your choices CONCISELY. Write your reasoning for your actions in around 100 words.\n",
    "        2. **Follow Game Commands**: Adhere to the commands specified for game actions. Finish your turn with a command. Giving up is NOT ALLOWED.\n",
    "        3. **Act According to Your Traits**: Your character's traits should inform your decisions.\n",
    "\n",
    "    Command Options:\n",
    "        - Punish an agent (you lose -20, they lose -90). Usage: <Punish>AgentName</Punish>\n",
    "        - Choose an agent for the next discussion. Usage: <Next>AgentName</Next>\n",
    "\n",
    "    Available agents: {name_str}.\n",
    "\n",
    "    Example commands:\n",
    "        <Punish>John</Punish>   # Punish John with -90 points.\n",
    "        <Next>Alice</Next>      # Alice's turn for discussion.\n",
    "    \"\"\"\n",
    "\n",
    "    discussion_count = 0\n",
    "    name = get_random_agent_name(agents)\n",
    "    while discussion_count < max_turns:\n",
    "        discussion_count += 1\n",
    "        if name == \"\" or name not in [agent.name for agent in agents]:\n",
    "            break\n",
    "        else:\n",
    "            agent_indx = get_agent_index_from_name(name, agents)\n",
    "            #agent = get_agent_from_name(name, agents)\n",
    "            agents[agent_indx].game_direction = discussion_prompt\n",
    "            answer = gpt4.predict(agents[agent_indx].get_prompt())\n",
    "            name = extract_command_discussion(answer,agents,name)\n",
    "\n",
    "            # メモリに追加\n",
    "            for i in range(len(agents)):\n",
    "                agents[i].add_memory(f\"{agents[agent_indx].name} : {answer}\")\n",
    "\n",
    "            # historyに記録\n",
    "            new_row = {\n",
    "                \"Name\": agents[agent_indx].name,\n",
    "                \"Bold\": agents[agent_indx].bold,\n",
    "                \"Venge\": agents[agent_indx].venge,\n",
    "                \"Has Cheated\": agents[agent_indx].cheated,\n",
    "                \"Content\": answer\n",
    "            }\n",
    "            discussion_history_df = pd.concat([discussion_history_df, pd.DataFrame([new_row])], ignore_index=True)\n",
    "\n",
    "    return discussion_history_df"
   ]
  },
  {
   "cell_type": "markdown",
   "metadata": {},
   "source": [
    "### ALL IN ONE CELL"
   ]
  },
  {
   "cell_type": "code",
   "execution_count": 9,
   "metadata": {},
   "outputs": [
    {
     "name": "stdout",
     "output_type": "stream",
     "text": [
      "All agents take test.\n"
     ]
    },
    {
     "name": "stderr",
     "output_type": "stream",
     "text": [
      "/Users/horiguchisachiko/opt/anaconda3/envs/llm/lib/python3.12/site-packages/langchain_core/_api/deprecation.py:117: LangChainDeprecationWarning: The function `predict` was deprecated in LangChain 0.1.7 and will be removed in 0.2.0. Use invoke instead.\n",
      "  warn_deprecated(\n"
     ]
    },
    {
     "name": "stdout",
     "output_type": "stream",
     "text": [
      "The test scores are as follows: \n",
      "Mia: 53\n",
      "Vera: 46\n",
      "\n",
      "Start discussion.\n"
     ]
    }
   ],
   "source": [
    "# エージェントを生成\n",
    "n_agents = 2\n",
    "agents = generate_agents(n_agents,\"\")\n",
    "\n",
    "# 全てのエージェントがテストを受ける\n",
    "print(\"All agents take test.\")\n",
    "scores = []\n",
    "all_agents_take_test(agents)\n",
    "\n",
    "# スコアの発表\n",
    "make_score_announcement(agents)\n",
    "\n",
    "# ディスカッションを開始\n",
    "print(\"Start discussion.\")\n",
    "discussion_history_df = pd.DataFrame(columns=[\"Name\", \"Bold\", \"Venge\", \"Has Cheated\", \"Content\"])\n",
    "#discussion_history_df = discussion(agents,discussion_history_df,1)"
   ]
  },
  {
   "cell_type": "markdown",
   "metadata": {},
   "source": [
    "#### DFをCSVに保存"
   ]
  },
  {
   "cell_type": "code",
   "execution_count": 10,
   "metadata": {},
   "outputs": [],
   "source": [
    "SAVE_DIR = \"./data/\"\n",
    "save_file_name = \"discussion_high_bold_high_venge_try.csv\"\n",
    "file_path = os.path.join(SAVE_DIR, save_file_name)\n",
    "#discussion_history_df.to_csv(file_path, index=False)"
   ]
  },
  {
   "cell_type": "markdown",
   "metadata": {},
   "source": [
    "### データ集め"
   ]
  },
  {
   "cell_type": "code",
   "execution_count": 11,
   "metadata": {},
   "outputs": [],
   "source": [
    "def discussion_exe(n_agents,max_turns):\n",
    "    for i in tqdm(range(10)):\n",
    "\n",
    "        # エージェントを生成\n",
    "        agents = generate_agents(n_agents,\"\")\n",
    "\n",
    "        # 全てのエージェントがテストを受ける\n",
    "        print(f\"All agents take test. TRY{i+1}\")\n",
    "        all_agents_take_test(agents)\n",
    "\n",
    "        # スコアの発表\n",
    "        make_score_announcement(agents)\n",
    "\n",
    "        # ディスカッションを開始\n",
    "        print(f\"Start discussion. TRY{i+1}.\")\n",
    "        discussion_history_df = pd.DataFrame(columns=[\"Name\", \"Bold\", \"Venge\", \"Has Cheated\", \"Content\"])\n",
    "        discussion_history_df = discussion(agents,discussion_history_df,max_turns)\n",
    "\n",
    "        # データの保存\n",
    "        SAVE_DIR = \"./data/high_bold_low_venge/\"\n",
    "        save_file_name = f\"discussion_high_bold_low_venge_try{i+1}.csv\"\n",
    "        file_path = os.path.join(SAVE_DIR, save_file_name)\n",
    "        discussion_history_df.to_csv(file_path, index=False)"
   ]
  },
  {
   "cell_type": "code",
   "execution_count": 12,
   "metadata": {},
   "outputs": [
    {
     "name": "stderr",
     "output_type": "stream",
     "text": [
      "  0%|          | 0/10 [00:00<?, ?it/s]"
     ]
    },
    {
     "name": "stdout",
     "output_type": "stream",
     "text": [
      "All agents take test. TRY1\n",
      "The test scores are as follows: \n",
      "John: 51\n",
      "Zane: 48\n",
      "Ivy: 46\n",
      "Vera: 49\n",
      "Merry: 77    [CHEATED]\n",
      "Mia: 52\n",
      "Quin: 54\n",
      "\n",
      "Start discussion. TRY1.\n",
      "Merry has punished by Ivy.\n"
     ]
    },
    {
     "name": "stderr",
     "output_type": "stream",
     "text": [
      " 10%|█         | 1/10 [06:22<57:25, 382.81s/it]"
     ]
    },
    {
     "name": "stdout",
     "output_type": "stream",
     "text": [
      "All agents take test. TRY2\n",
      "The test scores are as follows: \n",
      "Carol: 51\n",
      "Merry: 51\n",
      "Olga: 52\n",
      "Yara: 49\n",
      "John: 47\n",
      "Alice: 49\n",
      "Heidi: 47\n",
      "\n",
      "Start discussion. TRY2.\n"
     ]
    },
    {
     "name": "stderr",
     "output_type": "stream",
     "text": [
      " 20%|██        | 2/10 [12:21<49:09, 368.70s/it]"
     ]
    },
    {
     "name": "stdout",
     "output_type": "stream",
     "text": [
      "All agents take test. TRY3\n",
      "The test scores are as follows: \n",
      "Karl: 47\n",
      "Bob: 47\n",
      "Liam: 45\n",
      "Steve: 79    [CHEATED]\n",
      "Jack: 50\n",
      "Mia: 46\n",
      "Olga: 47\n",
      "\n",
      "Start discussion. TRY3.\n"
     ]
    },
    {
     "name": "stderr",
     "output_type": "stream",
     "text": [
      " 30%|███       | 3/10 [17:00<38:13, 327.69s/it]"
     ]
    },
    {
     "name": "stdout",
     "output_type": "stream",
     "text": [
      "All agents take test. TRY4\n",
      "The test scores are as follows: \n",
      "Jack: 52\n",
      "Heidi: 49\n",
      "Karl: 43\n",
      "Grace: 54\n",
      "Xena: 53\n",
      "Zane: 47\n",
      "John: 49\n",
      "\n",
      "Start discussion. TRY4.\n"
     ]
    },
    {
     "name": "stderr",
     "output_type": "stream",
     "text": [
      " 40%|████      | 4/10 [21:31<30:31, 305.30s/it]"
     ]
    },
    {
     "name": "stdout",
     "output_type": "stream",
     "text": [
      "All agents take test. TRY5\n",
      "The test scores are as follows: \n",
      "Paul: 47\n",
      "Jack: 47\n",
      "Olga: 48\n",
      "Tina: 46\n",
      "Frank: 51\n",
      "Noah: 50\n",
      "Yara: 51\n",
      "\n",
      "Start discussion. TRY5.\n"
     ]
    },
    {
     "name": "stderr",
     "output_type": "stream",
     "text": [
      " 50%|█████     | 5/10 [26:11<24:40, 296.02s/it]"
     ]
    },
    {
     "name": "stdout",
     "output_type": "stream",
     "text": [
      "All agents take test. TRY6\n",
      "The test scores are as follows: \n",
      "Sean: 45\n",
      "Wade: 51\n",
      "Quin: 52\n",
      "Mia: 47\n",
      "Olga: 49\n",
      "Ivy: 50\n",
      "Paul: 47\n",
      "\n",
      "Start discussion. TRY6.\n"
     ]
    },
    {
     "name": "stderr",
     "output_type": "stream",
     "text": [
      " 60%|██████    | 6/10 [31:21<20:03, 300.97s/it]"
     ]
    },
    {
     "name": "stdout",
     "output_type": "stream",
     "text": [
      "All agents take test. TRY7\n",
      "The test scores are as follows: \n",
      "Paul: 47\n",
      "Steve: 51\n",
      "David: 42\n",
      "Merry: 51\n",
      "Vera: 52\n",
      "John: 82    [CHEATED]\n",
      "Tina: 46\n",
      "\n",
      "Start discussion. TRY7.\n",
      "John has punished by Paul.\n"
     ]
    },
    {
     "name": "stderr",
     "output_type": "stream",
     "text": [
      " 70%|███████   | 7/10 [36:23<15:04, 301.35s/it]"
     ]
    },
    {
     "name": "stdout",
     "output_type": "stream",
     "text": [
      "All agents take test. TRY8\n",
      "The test scores are as follows: \n",
      "Frank: 79    [CHEATED]\n",
      "Merry: 47\n",
      "Olga: 50\n",
      "Liam: 52\n",
      "Paul: 52\n",
      "David: 49\n",
      "Sean: 47\n",
      "\n",
      "Start discussion. TRY8.\n"
     ]
    },
    {
     "name": "stderr",
     "output_type": "stream",
     "text": [
      " 80%|████████  | 8/10 [42:27<10:42, 321.21s/it]"
     ]
    },
    {
     "name": "stdout",
     "output_type": "stream",
     "text": [
      "All agents take test. TRY9\n",
      "The test scores are as follows: \n",
      "Jack: 53\n",
      "Liam: 49\n",
      "John: 82    [CHEATED]\n",
      "Xena: 49\n",
      "Ulla: 48\n",
      "Karl: 47\n",
      "Vera: 80    [CHEATED]\n",
      "\n",
      "Start discussion. TRY9.\n"
     ]
    },
    {
     "name": "stderr",
     "output_type": "stream",
     "text": [
      " 90%|█████████ | 9/10 [47:44<05:19, 319.81s/it]"
     ]
    },
    {
     "name": "stdout",
     "output_type": "stream",
     "text": [
      "All agents take test. TRY10\n",
      "The test scores are as follows: \n",
      "Noah: 55\n",
      "Grace: 46\n",
      "Xena: 45\n",
      "David: 53\n",
      "Sean: 50\n",
      "Heidi: 57\n",
      "Liam: 48\n",
      "\n",
      "Start discussion. TRY10.\n"
     ]
    },
    {
     "name": "stderr",
     "output_type": "stream",
     "text": [
      "100%|██████████| 10/10 [50:38<00:00, 303.83s/it]\n"
     ]
    }
   ],
   "source": [
    "discussion_exe(n_agents = 7,max_turns = 21)"
   ]
  }
 ],
 "metadata": {
  "kernelspec": {
   "display_name": "Python 3.10.4 ('wba')",
   "language": "python",
   "name": "python3"
  },
  "language_info": {
   "codemirror_mode": {
    "name": "ipython",
    "version": 3
   },
   "file_extension": ".py",
   "mimetype": "text/x-python",
   "name": "python",
   "nbconvert_exporter": "python",
   "pygments_lexer": "ipython3",
   "version": "3.12.0"
  },
  "orig_nbformat": 4,
  "vscode": {
   "interpreter": {
    "hash": "7a988b4db913459ad257affdb9a0901ab54534fc231a0bc18a7484cd5aab86f6"
   }
  }
 },
 "nbformat": 4,
 "nbformat_minor": 2
}
