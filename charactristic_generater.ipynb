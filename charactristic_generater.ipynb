{
 "cells": [
  {
   "cell_type": "markdown",
   "metadata": {},
   "source": [
    "# import"
   ]
  },
  {
   "cell_type": "code",
   "execution_count": 23,
   "metadata": {},
   "outputs": [],
   "source": [
    "from langchain.prompts import PromptTemplate\n",
    "from langchain.chains import ConversationChain\n",
    "from langchain.chat_models import ChatOpenAI\n",
    "from langchain.memory import ConversationBufferWindowMemory\n",
    "import os, random\n",
    "import csv\n",
    "from tqdm import tqdm\n",
    "\n",
    "SAVE_DIR = \"./data/\"\n",
    "save_file_name = \"conversation_raw.csv\"\n",
    "file_path = os.path.join(SAVE_DIR, save_file_name)\n",
    "\n",
    "# 環境変数の設定\n",
    "os.environ[\"OPENAI_API_KEY\"] = os.environ.get(\"OPENAI_API_KEY_IKEG\")"
   ]
  },
  {
   "cell_type": "markdown",
   "metadata": {},
   "source": [
    "# perosonality_prompt"
   ]
  },
  {
   "cell_type": "code",
   "execution_count": 33,
   "metadata": {},
   "outputs": [],
   "source": [
    "n_agents = 7\n",
    "\n",
    "personality_prompt = f\"\"\"\n",
    "Task:\n",
    "Your task is to determine the personality of {n_agents} agent. This personalities influences the values of the actions taken by the agent.\n",
    "\n",
    "Guidelines:\n",
    "1. output should be not too long, about 10 words.\n",
    "2. Do NOT write \"high vengefulness and low boldness\" expressly in outline.\n",
    "3. #Agent1, #Agent2... and so on, separated by agent.\n",
    "4. The behavior patterns should be as diverse as possible for each agent in terms of possible strategies.\n",
    "5. Do not write unnecessary explanations.\n",
    "6. The each outputs includes short description of \"Personality Traits:\", but this doens't count in the 10 words limit.\n",
    "\"\"\""
   ]
  },
  {
   "cell_type": "code",
   "execution_count": 52,
   "metadata": {},
   "outputs": [
    {
     "name": "stdout",
     "output_type": "stream",
     "text": [
      "#Agent1\n",
      "Personality Traits: Cautious, strategic, values alliances, avoids unnecessary risks.\n",
      "\n",
      "#Agent2\n",
      "Personality Traits: Aggressive, highly competitive, seeks dominance, disregards alliances.\n",
      "\n",
      "#Agent3\n",
      "Personality Traits: Charismatic, manipulative, forms alliances, betrays for gain.\n",
      "\n",
      "#Agent4\n",
      "Personality Traits: Analytical, patient, waits for opportune moments, risk-averse.\n",
      "\n",
      "#Agent5\n",
      "Personality Traits: Impulsive, unpredictable, acts on whims, ignores strategy.\n",
      "\n",
      "#Agent6\n",
      "Personality Traits: Altruistic, cooperative, prioritizes group success, avoids conflict.\n",
      "\n",
      "#Agent7\n",
      "Personality Traits: Inventive, experimental, tries unconventional strategies, learns from failures.\n"
     ]
    }
   ],
   "source": [
    "gpt4 = ChatOpenAI(model_name = \"gpt-4-0125-preview\", temperature=0.7, model_kwargs={\"top_p\":0.9})\n",
    "\n",
    "output = gpt4.predict(personality_prompt)\n",
    "\n",
    "print(output)"
   ]
  },
  {
   "cell_type": "code",
   "execution_count": 53,
   "metadata": {},
   "outputs": [],
   "source": [
    "import pandas as pd\n",
    "\n",
    "def extract_info_and_save_to_csv(text, csv_path):\n",
    "    sections = [\"Personality Traits\"]\n",
    "    agents = text.split(\"#\")[1:]  # 最初の要素は空なのでスキップ\n",
    "\n",
    "    data = []\n",
    "    for agent in agents:\n",
    "        lines = agent.split(\"\\n\")\n",
    "        agent_info = {}\n",
    "\n",
    "        for section in sections:\n",
    "            for line in lines:\n",
    "                if section in line:\n",
    "                    # セクション名と内容を分離し、辞書に追加\n",
    "                    content = line.split(\":\")[1].strip()\n",
    "                    agent_info[section] = content\n",
    "                    break  # 同じセクションに再び遭遇しないようにループを抜ける\n",
    "\n",
    "        data.append(agent_info)\n",
    "\n",
    "    # CSVファイルの追加または作成部\n",
    "    if os.path.exists(csv_path):\n",
    "        df_existing = pd.read_csv(csv_path)\n",
    "        df_new = pd.DataFrame(data)\n",
    "        df_combined = pd.concat([df_existing, df_new], ignore_index=True)\n",
    "    else:\n",
    "        df_combined = pd.DataFrame(data)\n",
    "\n",
    "    df_combined.columns = sections\n",
    "    df_combined.to_csv(csv_path, index=False)\n",
    "    return csv_path"
   ]
  },
  {
   "cell_type": "code",
   "execution_count": 54,
   "metadata": {},
   "outputs": [
    {
     "data": {
      "text/plain": [
       "'./data/agents_character_v2.csv'"
      ]
     },
     "execution_count": 54,
     "metadata": {},
     "output_type": "execute_result"
    }
   ],
   "source": [
    "csv_path = \"./data/agents_character_v2.csv\"\n",
    "append_or_create_path = extract_info_and_save_to_csv(output, csv_path)\n",
    "append_or_create_path"
   ]
  }
 ],
 "metadata": {
  "kernelspec": {
   "display_name": "fast_alter",
   "language": "python",
   "name": "python3"
  },
  "language_info": {
   "codemirror_mode": {
    "name": "ipython",
    "version": 3
   },
   "file_extension": ".py",
   "mimetype": "text/x-python",
   "name": "python",
   "nbconvert_exporter": "python",
   "pygments_lexer": "ipython3",
   "version": "3.12.0"
  }
 },
 "nbformat": 4,
 "nbformat_minor": 2
}
